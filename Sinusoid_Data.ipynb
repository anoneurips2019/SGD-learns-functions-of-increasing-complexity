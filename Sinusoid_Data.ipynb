{
  "nbformat": 4,
  "nbformat_minor": 0,
  "metadata": {
    "colab": {
      "name": "Sinusoid Data.ipynb",
      "version": "0.3.2",
      "provenance": []
    },
    "kernelspec": {
      "name": "python3",
      "display_name": "Python 3"
    }
  },
  "cells": [
    {
      "cell_type": "code",
      "metadata": {
        "id": "L-rWG6QFPYaf",
        "colab_type": "code",
        "outputId": "811df84e-4457-4f7a-85c1-e6d3a5b64459",
        "colab": {
          "base_uri": "https://localhost:8080/",
          "height": 34
        }
      },
      "source": [
        "import tensorflow as tf\n",
        "import keras\n",
        "from keras.layers import Dense, Flatten\n",
        "from keras.layers import MaxPooling2D, Dropout\n",
        "import numpy as np\n",
        "import numpy.random as random\n",
        "import pylab as plt\n",
        "from keras.datasets import mnist, cifar10\n",
        "from keras.preprocessing.image import ImageDataGenerator\n",
        "import keras.backend as K\n",
        "from sklearn.svm import LinearSVC\n",
        "from datetime import datetime\n",
        "import matplotlib"
      ],
      "execution_count": 1,
      "outputs": [
        {
          "output_type": "stream",
          "text": [
            "Using TensorFlow backend.\n"
          ],
          "name": "stderr"
        }
      ]
    },
    {
      "cell_type": "code",
      "metadata": {
        "id": "9bjSipX-P3NX",
        "colab_type": "code",
        "colab": {}
      },
      "source": [
        "def get_model(lr=0.01):\n",
        "  sgd = keras.optimizers.SGD(lr=lr)  \n",
        "  model = keras.Sequential()\n",
        "  model.add(keras.layers.Dense(256, activation='relu'))\n",
        "  model.add(keras.layers.Dense(256, activation='relu'))\n",
        "#   model.add(keras.layers.Dense(256, activation='relu'))\n",
        "  model.add(keras.layers.Dense(1, activation='sigmoid'))\n",
        "  model.compile(optimizer=sgd, loss='binary_crossentropy', metrics=['accuracy'])\n",
        "  return model\n",
        "\n",
        "def get_lin_model(lr=0.01):\n",
        "  nesterov = keras.optimizers.SGD(lr=lr, decay=1e-6, momentum=0.9, nesterov=True)  \n",
        "  model = keras.Sequential()\n",
        "  model.add(keras.layers.Dense(1, activation='sigmoid'))\n",
        "  model.compile(optimizer=nesterov, loss='binary_crossentropy', metrics=['accuracy'])\n",
        "  return model\n",
        "\n",
        "##\n",
        "## Information Computations\n",
        "##\n",
        "\n",
        "# estimate I(M(x); y | L(x))\n",
        "def estimate_IMYL(model, linModel, x, y):\n",
        "    p = est_density(model, linModel, x, y)\n",
        "    return I_XYZ(p)\n",
        "\n",
        "def est_density_MYL(model, linModel, x, y):\n",
        "    Mx = np.round(model.predict(x)).flatten()\n",
        "    Lx = np.round(linModel.predict(x)).flatten()\n",
        "    y = y.flatten()\n",
        "    \n",
        "    p = est_density(Mx, y, Lx)\n",
        "    return p\n",
        "    \n",
        "def est_density(X, Y, Z): # estimate p[x,y,z] \\in R^{{0,1}^3} for samples from X, Y, Z \\in \\N\n",
        "    X = X.astype(int)\n",
        "    Y = Y.astype(int)\n",
        "    Z = Z.astype(int)\n",
        "    \n",
        "    n = len(X)\n",
        "    p = np.zeros((2, 2, 2)) # p[x,y,z] is the joint prob density\n",
        "    for i in range(n):\n",
        "        p[X[i], Y[i], Z[i]] += 1.0\n",
        "    p /= n\n",
        "    return p\n",
        "\n",
        "def I_XYZ(p): # compute I(X, Y | Z) for joint density p[x, y, z]\n",
        "    pz = np.sum(p, axis=(0,1), keepdims=True) # the density of z. pz[x,y,z] = p(z)\n",
        "    \n",
        "    p_xy_z = p / pz  # q[x, y, z] = p(x, y | z)\n",
        "    p_x_z =  np.sum(p, axis=1, keepdims=True) / pz  # p(x | z)\n",
        "    p_y_z =  np.sum(p, axis=0, keepdims=True) / pz  # p(y | z)\n",
        "    \n",
        "    I = np.sum(p * np.nan_to_num(np.log2( p_xy_z / (p_x_z * p_y_z) )))\n",
        "    return I\n",
        "\n",
        "\n",
        "# returns I(A; B) where A, B \\in {X, Y, Z} spefice by idx\n",
        "# eg, I(X; Y) = I_ab(p, idx=[0, 1])\n",
        "#     I(X; Z) = I_ab(p, idx=[0, 2])\n",
        "def I_ab(p, idx=(0,1)): \n",
        "    exlude = (0+1+2) - np.sum(idx)\n",
        "    p_ab = np.sum(p, axis=exlude)\n",
        "    p_a = np.sum(p_ab, axis=1, keepdims=True)\n",
        "    p_b = np.sum(p_ab, axis=0, keepdims=True)\n",
        "    \n",
        "    I = np.sum(p_ab * np.nan_to_num(np.log2( p_ab / (p_a * p_b) )))\n",
        "    return I\n",
        "\n",
        "def H(q): # binary entropy\n",
        "    return -q*np.log2(q) - (1-q)*np.log2(1-q)\n"
      ],
      "execution_count": 0,
      "outputs": []
    },
    {
      "cell_type": "code",
      "metadata": {
        "id": "aaiBLeu7Pc79",
        "colab_type": "code",
        "colab": {}
      },
      "source": [
        "d = 100\n",
        "w = np.random.randn(d)\n",
        "w /= np.linalg.norm(w) \n",
        "w_p = np.random.randn(d)    # take a random vector\n",
        "w_p -= w_p.dot(w) * w       # make it orthogonal to w\n",
        "w_p /= np.linalg.norm(w_p) \n",
        "\n",
        "# \"\"\"\n",
        "def get_sin_data(n):\n",
        "  x = np.random.randn(n, d)\n",
        "#   w = np.random.randn(d)\n",
        "\n",
        "  y = (w.dot(x.T) + 1.7*np.sin(1.7*w_p.dot(x.T))) > 0\n",
        "#   y = w.dot(x.T) > 0\n",
        "  return x,y\n",
        "# \"\"\"\n",
        "\n",
        "# def get_sin_data(n):\n",
        "#   x = np.random.randn(n, d)\n",
        "# #   w = np.random.randn(d)\n",
        "#   y = np.sin(2.2*w.dot(x.T)) > 0\n",
        "# #   y = w.dot(x.T) > 0\n",
        "#   return x,y\n",
        "\n",
        "\n",
        "def get_lin_data(n):\n",
        "  x = np.random.randn(n, d)\n",
        "#   w = np.random.randn(d)\n",
        "  y = w.dot(x.T) > 0\n",
        "#   y = w.dot(x.T) > 0\n",
        "  return x,y\n",
        "\n"
      ],
      "execution_count": 0,
      "outputs": []
    },
    {
      "cell_type": "code",
      "metadata": {
        "id": "zItbyGJySJAW",
        "colab_type": "code",
        "outputId": "f3ace388-875a-4258-c9f5-4964d130be4b",
        "colab": {
          "base_uri": "https://localhost:8080/",
          "height": 845
        }
      },
      "source": [
        "x_train, y_train = get_sin_data(50000)\n",
        "x_test, y_test = get_sin_data(10000)\n",
        "lin = get_lin_model(0.001)\n",
        "\n",
        "lin.fit(x_train, y_train,\n",
        "         batch_size=32,\n",
        "         epochs=20,\n",
        "         shuffle=True, \n",
        "         validation_data=(x_test, y_test))\n"
      ],
      "execution_count": 50,
      "outputs": [
        {
          "output_type": "stream",
          "text": [
            "Train on 50000 samples, validate on 10000 samples\n",
            "Epoch 1/20\n",
            "50000/50000 [==============================] - 3s 56us/step - loss: 0.5590 - acc: 0.7376 - val_loss: 0.4829 - val_acc: 0.8038\n",
            "Epoch 2/20\n",
            "50000/50000 [==============================] - 2s 36us/step - loss: 0.4751 - acc: 0.8085 - val_loss: 0.4784 - val_acc: 0.8044\n",
            "Epoch 3/20\n",
            "50000/50000 [==============================] - 2s 37us/step - loss: 0.4730 - acc: 0.8075 - val_loss: 0.4783 - val_acc: 0.8027\n",
            "Epoch 4/20\n",
            "50000/50000 [==============================] - 2s 37us/step - loss: 0.4730 - acc: 0.8068 - val_loss: 0.4782 - val_acc: 0.8049\n",
            "Epoch 5/20\n",
            "50000/50000 [==============================] - 2s 37us/step - loss: 0.4729 - acc: 0.8071 - val_loss: 0.4783 - val_acc: 0.8039\n",
            "Epoch 6/20\n",
            "50000/50000 [==============================] - 2s 37us/step - loss: 0.4728 - acc: 0.8072 - val_loss: 0.4780 - val_acc: 0.8039\n",
            "Epoch 7/20\n",
            "50000/50000 [==============================] - 2s 36us/step - loss: 0.4728 - acc: 0.8085 - val_loss: 0.4781 - val_acc: 0.8038\n",
            "Epoch 8/20\n",
            "50000/50000 [==============================] - 2s 37us/step - loss: 0.4729 - acc: 0.8074 - val_loss: 0.4783 - val_acc: 0.8044\n",
            "Epoch 9/20\n",
            "50000/50000 [==============================] - 2s 37us/step - loss: 0.4728 - acc: 0.8069 - val_loss: 0.4783 - val_acc: 0.8072\n",
            "Epoch 10/20\n",
            "50000/50000 [==============================] - 2s 37us/step - loss: 0.4728 - acc: 0.8077 - val_loss: 0.4780 - val_acc: 0.8046\n",
            "Epoch 11/20\n",
            "50000/50000 [==============================] - 2s 37us/step - loss: 0.4728 - acc: 0.8060 - val_loss: 0.4782 - val_acc: 0.8059\n",
            "Epoch 12/20\n",
            "50000/50000 [==============================] - 2s 36us/step - loss: 0.4729 - acc: 0.8070 - val_loss: 0.4779 - val_acc: 0.8073\n",
            "Epoch 13/20\n",
            "50000/50000 [==============================] - 2s 36us/step - loss: 0.4727 - acc: 0.8080 - val_loss: 0.4785 - val_acc: 0.8054\n",
            "Epoch 14/20\n",
            " 8064/50000 [===>..........................] - ETA: 1s - loss: 0.4893 - acc: 0.7972"
          ],
          "name": "stdout"
        },
        {
          "output_type": "error",
          "ename": "KeyboardInterrupt",
          "evalue": "ignored",
          "traceback": [
            "\u001b[0;31m---------------------------------------------------------------------------\u001b[0m",
            "\u001b[0;31mKeyboardInterrupt\u001b[0m                         Traceback (most recent call last)",
            "\u001b[0;32m<ipython-input-50-d1d147fc1056>\u001b[0m in \u001b[0;36m<module>\u001b[0;34m()\u001b[0m\n\u001b[1;32m      7\u001b[0m          \u001b[0mepochs\u001b[0m\u001b[0;34m=\u001b[0m\u001b[0;36m20\u001b[0m\u001b[0;34m,\u001b[0m\u001b[0;34m\u001b[0m\u001b[0;34m\u001b[0m\u001b[0m\n\u001b[1;32m      8\u001b[0m          \u001b[0mshuffle\u001b[0m\u001b[0;34m=\u001b[0m\u001b[0;32mTrue\u001b[0m\u001b[0;34m,\u001b[0m\u001b[0;34m\u001b[0m\u001b[0;34m\u001b[0m\u001b[0m\n\u001b[0;32m----> 9\u001b[0;31m          validation_data=(x_test, y_test))\n\u001b[0m",
            "\u001b[0;32m/usr/local/lib/python3.6/dist-packages/keras/engine/training.py\u001b[0m in \u001b[0;36mfit\u001b[0;34m(self, x, y, batch_size, epochs, verbose, callbacks, validation_split, validation_data, shuffle, class_weight, sample_weight, initial_epoch, steps_per_epoch, validation_steps, **kwargs)\u001b[0m\n\u001b[1;32m   1037\u001b[0m                                         \u001b[0minitial_epoch\u001b[0m\u001b[0;34m=\u001b[0m\u001b[0minitial_epoch\u001b[0m\u001b[0;34m,\u001b[0m\u001b[0;34m\u001b[0m\u001b[0;34m\u001b[0m\u001b[0m\n\u001b[1;32m   1038\u001b[0m                                         \u001b[0msteps_per_epoch\u001b[0m\u001b[0;34m=\u001b[0m\u001b[0msteps_per_epoch\u001b[0m\u001b[0;34m,\u001b[0m\u001b[0;34m\u001b[0m\u001b[0;34m\u001b[0m\u001b[0m\n\u001b[0;32m-> 1039\u001b[0;31m                                         validation_steps=validation_steps)\n\u001b[0m\u001b[1;32m   1040\u001b[0m \u001b[0;34m\u001b[0m\u001b[0m\n\u001b[1;32m   1041\u001b[0m     def evaluate(self, x=None, y=None,\n",
            "\u001b[0;32m/usr/local/lib/python3.6/dist-packages/keras/engine/training_arrays.py\u001b[0m in \u001b[0;36mfit_loop\u001b[0;34m(model, f, ins, out_labels, batch_size, epochs, verbose, callbacks, val_f, val_ins, shuffle, callback_metrics, initial_epoch, steps_per_epoch, validation_steps)\u001b[0m\n\u001b[1;32m    193\u001b[0m                 \u001b[0mbatch_logs\u001b[0m\u001b[0;34m[\u001b[0m\u001b[0;34m'batch'\u001b[0m\u001b[0;34m]\u001b[0m \u001b[0;34m=\u001b[0m \u001b[0mbatch_index\u001b[0m\u001b[0;34m\u001b[0m\u001b[0;34m\u001b[0m\u001b[0m\n\u001b[1;32m    194\u001b[0m                 \u001b[0mbatch_logs\u001b[0m\u001b[0;34m[\u001b[0m\u001b[0;34m'size'\u001b[0m\u001b[0;34m]\u001b[0m \u001b[0;34m=\u001b[0m \u001b[0mlen\u001b[0m\u001b[0;34m(\u001b[0m\u001b[0mbatch_ids\u001b[0m\u001b[0;34m)\u001b[0m\u001b[0;34m\u001b[0m\u001b[0;34m\u001b[0m\u001b[0m\n\u001b[0;32m--> 195\u001b[0;31m                 \u001b[0mcallbacks\u001b[0m\u001b[0;34m.\u001b[0m\u001b[0mon_batch_begin\u001b[0m\u001b[0;34m(\u001b[0m\u001b[0mbatch_index\u001b[0m\u001b[0;34m,\u001b[0m \u001b[0mbatch_logs\u001b[0m\u001b[0;34m)\u001b[0m\u001b[0;34m\u001b[0m\u001b[0;34m\u001b[0m\u001b[0m\n\u001b[0m\u001b[1;32m    196\u001b[0m                 \u001b[0;32mfor\u001b[0m \u001b[0mi\u001b[0m \u001b[0;32min\u001b[0m \u001b[0mindices_for_conversion_to_dense\u001b[0m\u001b[0;34m:\u001b[0m\u001b[0;34m\u001b[0m\u001b[0;34m\u001b[0m\u001b[0m\n\u001b[1;32m    197\u001b[0m                     \u001b[0mins_batch\u001b[0m\u001b[0;34m[\u001b[0m\u001b[0mi\u001b[0m\u001b[0;34m]\u001b[0m \u001b[0;34m=\u001b[0m \u001b[0mins_batch\u001b[0m\u001b[0;34m[\u001b[0m\u001b[0mi\u001b[0m\u001b[0;34m]\u001b[0m\u001b[0;34m.\u001b[0m\u001b[0mtoarray\u001b[0m\u001b[0;34m(\u001b[0m\u001b[0;34m)\u001b[0m\u001b[0;34m\u001b[0m\u001b[0;34m\u001b[0m\u001b[0m\n",
            "\u001b[0;32m/usr/local/lib/python3.6/dist-packages/keras/callbacks.py\u001b[0m in \u001b[0;36mon_batch_begin\u001b[0;34m(self, batch, logs)\u001b[0m\n\u001b[1;32m     91\u001b[0m             \u001b[0mcallback\u001b[0m\u001b[0;34m.\u001b[0m\u001b[0mon_batch_begin\u001b[0m\u001b[0;34m(\u001b[0m\u001b[0mbatch\u001b[0m\u001b[0;34m,\u001b[0m \u001b[0mlogs\u001b[0m\u001b[0;34m)\u001b[0m\u001b[0;34m\u001b[0m\u001b[0;34m\u001b[0m\u001b[0m\n\u001b[1;32m     92\u001b[0m         \u001b[0mself\u001b[0m\u001b[0;34m.\u001b[0m\u001b[0m_delta_ts_batch_begin\u001b[0m\u001b[0;34m.\u001b[0m\u001b[0mappend\u001b[0m\u001b[0;34m(\u001b[0m\u001b[0mtime\u001b[0m\u001b[0;34m.\u001b[0m\u001b[0mtime\u001b[0m\u001b[0;34m(\u001b[0m\u001b[0;34m)\u001b[0m \u001b[0;34m-\u001b[0m \u001b[0mt_before_callbacks\u001b[0m\u001b[0;34m)\u001b[0m\u001b[0;34m\u001b[0m\u001b[0;34m\u001b[0m\u001b[0m\n\u001b[0;32m---> 93\u001b[0;31m         \u001b[0mdelta_t_median\u001b[0m \u001b[0;34m=\u001b[0m \u001b[0mnp\u001b[0m\u001b[0;34m.\u001b[0m\u001b[0mmedian\u001b[0m\u001b[0;34m(\u001b[0m\u001b[0mself\u001b[0m\u001b[0;34m.\u001b[0m\u001b[0m_delta_ts_batch_begin\u001b[0m\u001b[0;34m)\u001b[0m\u001b[0;34m\u001b[0m\u001b[0;34m\u001b[0m\u001b[0m\n\u001b[0m\u001b[1;32m     94\u001b[0m         if (self._delta_t_batch > 0. and\n\u001b[1;32m     95\u001b[0m            \u001b[0mdelta_t_median\u001b[0m \u001b[0;34m>\u001b[0m \u001b[0;36m0.95\u001b[0m \u001b[0;34m*\u001b[0m \u001b[0mself\u001b[0m\u001b[0;34m.\u001b[0m\u001b[0m_delta_t_batch\u001b[0m \u001b[0;32mand\u001b[0m\u001b[0;34m\u001b[0m\u001b[0;34m\u001b[0m\u001b[0m\n",
            "\u001b[0;32m/usr/local/lib/python3.6/dist-packages/numpy/lib/function_base.py\u001b[0m in \u001b[0;36mmedian\u001b[0;34m(a, axis, out, overwrite_input, keepdims)\u001b[0m\n\u001b[1;32m   3495\u001b[0m     \"\"\"\n\u001b[1;32m   3496\u001b[0m     r, k = _ureduce(a, func=_median, axis=axis, out=out,\n\u001b[0;32m-> 3497\u001b[0;31m                     overwrite_input=overwrite_input)\n\u001b[0m\u001b[1;32m   3498\u001b[0m     \u001b[0;32mif\u001b[0m \u001b[0mkeepdims\u001b[0m\u001b[0;34m:\u001b[0m\u001b[0;34m\u001b[0m\u001b[0;34m\u001b[0m\u001b[0m\n\u001b[1;32m   3499\u001b[0m         \u001b[0;32mreturn\u001b[0m \u001b[0mr\u001b[0m\u001b[0;34m.\u001b[0m\u001b[0mreshape\u001b[0m\u001b[0;34m(\u001b[0m\u001b[0mk\u001b[0m\u001b[0;34m)\u001b[0m\u001b[0;34m\u001b[0m\u001b[0;34m\u001b[0m\u001b[0m\n",
            "\u001b[0;32m/usr/local/lib/python3.6/dist-packages/numpy/lib/function_base.py\u001b[0m in \u001b[0;36m_ureduce\u001b[0;34m(a, func, **kwargs)\u001b[0m\n\u001b[1;32m   3403\u001b[0m         \u001b[0mkeepdim\u001b[0m \u001b[0;34m=\u001b[0m \u001b[0;34m(\u001b[0m\u001b[0;36m1\u001b[0m\u001b[0;34m,\u001b[0m\u001b[0;34m)\u001b[0m \u001b[0;34m*\u001b[0m \u001b[0ma\u001b[0m\u001b[0;34m.\u001b[0m\u001b[0mndim\u001b[0m\u001b[0;34m\u001b[0m\u001b[0;34m\u001b[0m\u001b[0m\n\u001b[1;32m   3404\u001b[0m \u001b[0;34m\u001b[0m\u001b[0m\n\u001b[0;32m-> 3405\u001b[0;31m     \u001b[0mr\u001b[0m \u001b[0;34m=\u001b[0m \u001b[0mfunc\u001b[0m\u001b[0;34m(\u001b[0m\u001b[0ma\u001b[0m\u001b[0;34m,\u001b[0m \u001b[0;34m**\u001b[0m\u001b[0mkwargs\u001b[0m\u001b[0;34m)\u001b[0m\u001b[0;34m\u001b[0m\u001b[0;34m\u001b[0m\u001b[0m\n\u001b[0m\u001b[1;32m   3406\u001b[0m     \u001b[0;32mreturn\u001b[0m \u001b[0mr\u001b[0m\u001b[0;34m,\u001b[0m \u001b[0mkeepdim\u001b[0m\u001b[0;34m\u001b[0m\u001b[0;34m\u001b[0m\u001b[0m\n\u001b[1;32m   3407\u001b[0m \u001b[0;34m\u001b[0m\u001b[0m\n",
            "\u001b[0;32m/usr/local/lib/python3.6/dist-packages/numpy/lib/function_base.py\u001b[0m in \u001b[0;36m_median\u001b[0;34m(a, axis, out, overwrite_input)\u001b[0m\n\u001b[1;32m   3504\u001b[0m     \u001b[0;31m# can't be reasonably be implemented in terms of percentile as we have to\u001b[0m\u001b[0;34m\u001b[0m\u001b[0;34m\u001b[0m\u001b[0;34m\u001b[0m\u001b[0m\n\u001b[1;32m   3505\u001b[0m     \u001b[0;31m# call mean to not break astropy\u001b[0m\u001b[0;34m\u001b[0m\u001b[0;34m\u001b[0m\u001b[0;34m\u001b[0m\u001b[0m\n\u001b[0;32m-> 3506\u001b[0;31m     \u001b[0ma\u001b[0m \u001b[0;34m=\u001b[0m \u001b[0mnp\u001b[0m\u001b[0;34m.\u001b[0m\u001b[0masanyarray\u001b[0m\u001b[0;34m(\u001b[0m\u001b[0ma\u001b[0m\u001b[0;34m)\u001b[0m\u001b[0;34m\u001b[0m\u001b[0;34m\u001b[0m\u001b[0m\n\u001b[0m\u001b[1;32m   3507\u001b[0m \u001b[0;34m\u001b[0m\u001b[0m\n\u001b[1;32m   3508\u001b[0m     \u001b[0;31m# Set the partition indexes\u001b[0m\u001b[0;34m\u001b[0m\u001b[0;34m\u001b[0m\u001b[0;34m\u001b[0m\u001b[0m\n",
            "\u001b[0;32m/usr/local/lib/python3.6/dist-packages/numpy/core/numeric.py\u001b[0m in \u001b[0;36masanyarray\u001b[0;34m(a, dtype, order)\u001b[0m\n\u001b[1;32m    589\u001b[0m \u001b[0;34m\u001b[0m\u001b[0m\n\u001b[1;32m    590\u001b[0m     \"\"\"\n\u001b[0;32m--> 591\u001b[0;31m     \u001b[0;32mreturn\u001b[0m \u001b[0marray\u001b[0m\u001b[0;34m(\u001b[0m\u001b[0ma\u001b[0m\u001b[0;34m,\u001b[0m \u001b[0mdtype\u001b[0m\u001b[0;34m,\u001b[0m \u001b[0mcopy\u001b[0m\u001b[0;34m=\u001b[0m\u001b[0;32mFalse\u001b[0m\u001b[0;34m,\u001b[0m \u001b[0morder\u001b[0m\u001b[0;34m=\u001b[0m\u001b[0morder\u001b[0m\u001b[0;34m,\u001b[0m \u001b[0msubok\u001b[0m\u001b[0;34m=\u001b[0m\u001b[0;32mTrue\u001b[0m\u001b[0;34m)\u001b[0m\u001b[0;34m\u001b[0m\u001b[0;34m\u001b[0m\u001b[0m\n\u001b[0m\u001b[1;32m    592\u001b[0m \u001b[0;34m\u001b[0m\u001b[0m\n\u001b[1;32m    593\u001b[0m \u001b[0;34m\u001b[0m\u001b[0m\n",
            "\u001b[0;31mKeyboardInterrupt\u001b[0m: "
          ]
        }
      ]
    },
    {
      "cell_type": "code",
      "metadata": {
        "id": "w1SgJrdLPgin",
        "colab_type": "code",
        "colab": {}
      },
      "source": [
        "x_train, y_train = get_sin_data(50000)\n",
        "x_test, y_test = get_sin_data(2000)"
      ],
      "execution_count": 0,
      "outputs": []
    },
    {
      "cell_type": "code",
      "metadata": {
        "id": "_HX1IR6bPhvL",
        "colab_type": "code",
        "outputId": "bc998f81-8512-4080-a6b7-5550a8ee8bcd",
        "colab": {
          "base_uri": "https://localhost:8080/",
          "height": 643
        }
      },
      "source": [
        "model = get_model(0.01)\n",
        "model.fit(x_train, y_train,\n",
        "         batch_size=32,\n",
        "         epochs=100,\n",
        "         shuffle=True, \n",
        "         validation_data=(x_test, y_test))\n"
      ],
      "execution_count": 54,
      "outputs": [
        {
          "output_type": "stream",
          "text": [
            "Train on 50000 samples, validate on 2000 samples\n",
            "Epoch 1/100\n",
            "50000/50000 [==============================] - 5s 109us/step - loss: 0.5354 - acc: 0.7533 - val_loss: 0.4756 - val_acc: 0.7930\n",
            "Epoch 2/100\n",
            "50000/50000 [==============================] - 4s 85us/step - loss: 0.4794 - acc: 0.7997 - val_loss: 0.4691 - val_acc: 0.8035\n",
            "Epoch 3/100\n",
            "50000/50000 [==============================] - 4s 86us/step - loss: 0.4694 - acc: 0.8066 - val_loss: 0.4663 - val_acc: 0.8090\n",
            "Epoch 4/100\n",
            "50000/50000 [==============================] - 4s 86us/step - loss: 0.4614 - acc: 0.8138 - val_loss: 0.4614 - val_acc: 0.8080\n",
            "Epoch 5/100\n",
            "50000/50000 [==============================] - 4s 84us/step - loss: 0.4529 - acc: 0.8188 - val_loss: 0.4537 - val_acc: 0.8170\n",
            "Epoch 6/100\n",
            "50000/50000 [==============================] - 4s 83us/step - loss: 0.4415 - acc: 0.8256 - val_loss: 0.4415 - val_acc: 0.8215\n",
            "Epoch 7/100\n",
            "50000/50000 [==============================] - 4s 84us/step - loss: 0.4192 - acc: 0.8355 - val_loss: 0.4119 - val_acc: 0.8280\n",
            "Epoch 8/100\n",
            "36096/50000 [====================>.........] - ETA: 1s - loss: 0.3737 - acc: 0.8529"
          ],
          "name": "stdout"
        },
        {
          "output_type": "error",
          "ename": "KeyboardInterrupt",
          "evalue": "ignored",
          "traceback": [
            "\u001b[0;31m---------------------------------------------------------------------------\u001b[0m",
            "\u001b[0;31mKeyboardInterrupt\u001b[0m                         Traceback (most recent call last)",
            "\u001b[0;32m<ipython-input-54-10e96f61e3c0>\u001b[0m in \u001b[0;36m<module>\u001b[0;34m()\u001b[0m\n\u001b[1;32m      4\u001b[0m          \u001b[0mepochs\u001b[0m\u001b[0;34m=\u001b[0m\u001b[0;36m100\u001b[0m\u001b[0;34m,\u001b[0m\u001b[0;34m\u001b[0m\u001b[0;34m\u001b[0m\u001b[0m\n\u001b[1;32m      5\u001b[0m          \u001b[0mshuffle\u001b[0m\u001b[0;34m=\u001b[0m\u001b[0;32mTrue\u001b[0m\u001b[0;34m,\u001b[0m\u001b[0;34m\u001b[0m\u001b[0;34m\u001b[0m\u001b[0m\n\u001b[0;32m----> 6\u001b[0;31m          validation_data=(x_test, y_test))\n\u001b[0m",
            "\u001b[0;32m/usr/local/lib/python3.6/dist-packages/keras/engine/training.py\u001b[0m in \u001b[0;36mfit\u001b[0;34m(self, x, y, batch_size, epochs, verbose, callbacks, validation_split, validation_data, shuffle, class_weight, sample_weight, initial_epoch, steps_per_epoch, validation_steps, **kwargs)\u001b[0m\n\u001b[1;32m   1037\u001b[0m                                         \u001b[0minitial_epoch\u001b[0m\u001b[0;34m=\u001b[0m\u001b[0minitial_epoch\u001b[0m\u001b[0;34m,\u001b[0m\u001b[0;34m\u001b[0m\u001b[0;34m\u001b[0m\u001b[0m\n\u001b[1;32m   1038\u001b[0m                                         \u001b[0msteps_per_epoch\u001b[0m\u001b[0;34m=\u001b[0m\u001b[0msteps_per_epoch\u001b[0m\u001b[0;34m,\u001b[0m\u001b[0;34m\u001b[0m\u001b[0;34m\u001b[0m\u001b[0m\n\u001b[0;32m-> 1039\u001b[0;31m                                         validation_steps=validation_steps)\n\u001b[0m\u001b[1;32m   1040\u001b[0m \u001b[0;34m\u001b[0m\u001b[0m\n\u001b[1;32m   1041\u001b[0m     def evaluate(self, x=None, y=None,\n",
            "\u001b[0;32m/usr/local/lib/python3.6/dist-packages/keras/engine/training_arrays.py\u001b[0m in \u001b[0;36mfit_loop\u001b[0;34m(model, f, ins, out_labels, batch_size, epochs, verbose, callbacks, val_f, val_ins, shuffle, callback_metrics, initial_epoch, steps_per_epoch, validation_steps)\u001b[0m\n\u001b[1;32m    197\u001b[0m                     \u001b[0mins_batch\u001b[0m\u001b[0;34m[\u001b[0m\u001b[0mi\u001b[0m\u001b[0;34m]\u001b[0m \u001b[0;34m=\u001b[0m \u001b[0mins_batch\u001b[0m\u001b[0;34m[\u001b[0m\u001b[0mi\u001b[0m\u001b[0;34m]\u001b[0m\u001b[0;34m.\u001b[0m\u001b[0mtoarray\u001b[0m\u001b[0;34m(\u001b[0m\u001b[0;34m)\u001b[0m\u001b[0;34m\u001b[0m\u001b[0;34m\u001b[0m\u001b[0m\n\u001b[1;32m    198\u001b[0m \u001b[0;34m\u001b[0m\u001b[0m\n\u001b[0;32m--> 199\u001b[0;31m                 \u001b[0mouts\u001b[0m \u001b[0;34m=\u001b[0m \u001b[0mf\u001b[0m\u001b[0;34m(\u001b[0m\u001b[0mins_batch\u001b[0m\u001b[0;34m)\u001b[0m\u001b[0;34m\u001b[0m\u001b[0;34m\u001b[0m\u001b[0m\n\u001b[0m\u001b[1;32m    200\u001b[0m                 \u001b[0mouts\u001b[0m \u001b[0;34m=\u001b[0m \u001b[0mto_list\u001b[0m\u001b[0;34m(\u001b[0m\u001b[0mouts\u001b[0m\u001b[0;34m)\u001b[0m\u001b[0;34m\u001b[0m\u001b[0;34m\u001b[0m\u001b[0m\n\u001b[1;32m    201\u001b[0m                 \u001b[0;32mfor\u001b[0m \u001b[0ml\u001b[0m\u001b[0;34m,\u001b[0m \u001b[0mo\u001b[0m \u001b[0;32min\u001b[0m \u001b[0mzip\u001b[0m\u001b[0;34m(\u001b[0m\u001b[0mout_labels\u001b[0m\u001b[0;34m,\u001b[0m \u001b[0mouts\u001b[0m\u001b[0;34m)\u001b[0m\u001b[0;34m:\u001b[0m\u001b[0;34m\u001b[0m\u001b[0;34m\u001b[0m\u001b[0m\n",
            "\u001b[0;32m/usr/local/lib/python3.6/dist-packages/keras/backend/tensorflow_backend.py\u001b[0m in \u001b[0;36m__call__\u001b[0;34m(self, inputs)\u001b[0m\n\u001b[1;32m   2713\u001b[0m                 \u001b[0;32mreturn\u001b[0m \u001b[0mself\u001b[0m\u001b[0;34m.\u001b[0m\u001b[0m_legacy_call\u001b[0m\u001b[0;34m(\u001b[0m\u001b[0minputs\u001b[0m\u001b[0;34m)\u001b[0m\u001b[0;34m\u001b[0m\u001b[0;34m\u001b[0m\u001b[0m\n\u001b[1;32m   2714\u001b[0m \u001b[0;34m\u001b[0m\u001b[0m\n\u001b[0;32m-> 2715\u001b[0;31m             \u001b[0;32mreturn\u001b[0m \u001b[0mself\u001b[0m\u001b[0;34m.\u001b[0m\u001b[0m_call\u001b[0m\u001b[0;34m(\u001b[0m\u001b[0minputs\u001b[0m\u001b[0;34m)\u001b[0m\u001b[0;34m\u001b[0m\u001b[0;34m\u001b[0m\u001b[0m\n\u001b[0m\u001b[1;32m   2716\u001b[0m         \u001b[0;32melse\u001b[0m\u001b[0;34m:\u001b[0m\u001b[0;34m\u001b[0m\u001b[0;34m\u001b[0m\u001b[0m\n\u001b[1;32m   2717\u001b[0m             \u001b[0;32mif\u001b[0m \u001b[0mpy_any\u001b[0m\u001b[0;34m(\u001b[0m\u001b[0mis_tensor\u001b[0m\u001b[0;34m(\u001b[0m\u001b[0mx\u001b[0m\u001b[0;34m)\u001b[0m \u001b[0;32mfor\u001b[0m \u001b[0mx\u001b[0m \u001b[0;32min\u001b[0m \u001b[0minputs\u001b[0m\u001b[0;34m)\u001b[0m\u001b[0;34m:\u001b[0m\u001b[0;34m\u001b[0m\u001b[0;34m\u001b[0m\u001b[0m\n",
            "\u001b[0;32m/usr/local/lib/python3.6/dist-packages/keras/backend/tensorflow_backend.py\u001b[0m in \u001b[0;36m_call\u001b[0;34m(self, inputs)\u001b[0m\n\u001b[1;32m   2634\u001b[0m             \u001b[0;32mraise\u001b[0m \u001b[0mTypeError\u001b[0m\u001b[0;34m(\u001b[0m\u001b[0;34m'`inputs` should be a list or tuple.'\u001b[0m\u001b[0;34m)\u001b[0m\u001b[0;34m\u001b[0m\u001b[0;34m\u001b[0m\u001b[0m\n\u001b[1;32m   2635\u001b[0m \u001b[0;34m\u001b[0m\u001b[0m\n\u001b[0;32m-> 2636\u001b[0;31m         \u001b[0msession\u001b[0m \u001b[0;34m=\u001b[0m \u001b[0mget_session\u001b[0m\u001b[0;34m(\u001b[0m\u001b[0;34m)\u001b[0m\u001b[0;34m\u001b[0m\u001b[0;34m\u001b[0m\u001b[0m\n\u001b[0m\u001b[1;32m   2637\u001b[0m         \u001b[0mfeed_arrays\u001b[0m \u001b[0;34m=\u001b[0m \u001b[0;34m[\u001b[0m\u001b[0;34m]\u001b[0m\u001b[0;34m\u001b[0m\u001b[0;34m\u001b[0m\u001b[0m\n\u001b[1;32m   2638\u001b[0m         \u001b[0marray_vals\u001b[0m \u001b[0;34m=\u001b[0m \u001b[0;34m[\u001b[0m\u001b[0;34m]\u001b[0m\u001b[0;34m\u001b[0m\u001b[0;34m\u001b[0m\u001b[0m\n",
            "\u001b[0;32m/usr/local/lib/python3.6/dist-packages/keras/backend/tensorflow_backend.py\u001b[0m in \u001b[0;36mget_session\u001b[0;34m()\u001b[0m\n\u001b[1;32m    191\u001b[0m             \u001b[0mcandidate_vars\u001b[0m \u001b[0;34m=\u001b[0m \u001b[0;34m[\u001b[0m\u001b[0;34m]\u001b[0m\u001b[0;34m\u001b[0m\u001b[0;34m\u001b[0m\u001b[0m\n\u001b[1;32m    192\u001b[0m             \u001b[0;32mfor\u001b[0m \u001b[0mv\u001b[0m \u001b[0;32min\u001b[0m \u001b[0mvariables\u001b[0m\u001b[0;34m:\u001b[0m\u001b[0;34m\u001b[0m\u001b[0;34m\u001b[0m\u001b[0m\n\u001b[0;32m--> 193\u001b[0;31m                 \u001b[0;32mif\u001b[0m \u001b[0;32mnot\u001b[0m \u001b[0mgetattr\u001b[0m\u001b[0;34m(\u001b[0m\u001b[0mv\u001b[0m\u001b[0;34m,\u001b[0m \u001b[0;34m'_keras_initialized'\u001b[0m\u001b[0;34m,\u001b[0m \u001b[0;32mFalse\u001b[0m\u001b[0;34m)\u001b[0m\u001b[0;34m:\u001b[0m\u001b[0;34m\u001b[0m\u001b[0;34m\u001b[0m\u001b[0m\n\u001b[0m\u001b[1;32m    194\u001b[0m                     \u001b[0mcandidate_vars\u001b[0m\u001b[0;34m.\u001b[0m\u001b[0mappend\u001b[0m\u001b[0;34m(\u001b[0m\u001b[0mv\u001b[0m\u001b[0;34m)\u001b[0m\u001b[0;34m\u001b[0m\u001b[0;34m\u001b[0m\u001b[0m\n\u001b[1;32m    195\u001b[0m             \u001b[0;32mif\u001b[0m \u001b[0mcandidate_vars\u001b[0m\u001b[0;34m:\u001b[0m\u001b[0;34m\u001b[0m\u001b[0;34m\u001b[0m\u001b[0m\n",
            "\u001b[0;31mKeyboardInterrupt\u001b[0m: "
          ]
        }
      ]
    },
    {
      "cell_type": "code",
      "metadata": {
        "id": "RovhR8WnQ2AF",
        "colab_type": "code",
        "outputId": "b190fc4b-1bf9-46fb-fd4b-0d5d0405a04b",
        "colab": {
          "base_uri": "https://localhost:8080/",
          "height": 1260
        }
      },
      "source": [
        "times = 10\n",
        "epochs = 25\n",
        "\n",
        "\n",
        "model_acc = np.zeros((times, epochs))\n",
        "I_MYL = np.zeros((times, epochs))\n",
        "# I_ML = np.zeros((times, epochs))\n",
        "I_MY = np.zeros((times, epochs))\n",
        "I_MY_train = np.zeros((times, epochs))\n",
        "\n",
        "# num_of_batches = 10\n",
        "# batch_size = int(len(x_train) / num_of_batches)\n",
        "for t in range(times):\n",
        "  model = get_model()\n",
        "  print(\"time number \", t)\n",
        "\n",
        "  for ep in range(epochs):\n",
        "      print(\"Starting epoch\", ep ,\"at time: \", str(datetime.now().time()))\n",
        "      #learnt, r_acc = train_linear(model, epochs=30, verbose=False)\n",
        "      #repro_acc.append(r_acc)\n",
        "\n",
        "      pMYL = est_density_MYL(model, lin, x_test, y_test)  # p[M, Y, L]\n",
        "      I_MYL[t, ep] = I_XYZ(pMYL)\n",
        "      I_MY[t, ep] = I_ab(pMYL, idx=(0, 1))\n",
        "      \n",
        "      pMYL_train = est_density_MYL(model, lin, x_train, y_train)  # p[M, Y, L]\n",
        "      I_MY_train[t, ep] = I_ab(pMYL_train, idx=(0, 1))\n",
        "      \n",
        "      model_loss, m_acc = model.evaluate(x_test, y_test)\n",
        "      model_acc[t, ep] = m_acc\n",
        "      model.fit(x_train, y_train, batch_size=32, epochs=1, verbose=0)\n",
        "\n",
        "#       print(\"DONE WITH EPOCH: \", ep)\n",
        "#       print(\"\\n\")\n",
        "# ax2.set_yticks(ytx2)\n",
        "\n",
        "\n",
        "plt.rcParams[\"font.family\"] = 'serif'\n",
        "eps = epochs\n",
        "\n",
        "gap = I_MY - I_MYL\n",
        "_, lin_acc = lin.evaluate(x_test, y_test)\n",
        "\n",
        "fig, ax1 = plt.subplots()\n",
        "# ax1.plot(range(eps), gap.mean(axis=0), label='I(Model(x); Y) - I(Model(x); Y | Lin(x))')\n",
        "ax1.plot(range(eps), gap.mean(axis=0), label='I(F$_t$; Y) - I(F$_t$; Y | Lin)')\n",
        "ax1.fill_between(range(eps), gap.mean(axis=0)-gap.std(axis=0), gap.mean(axis=0)+gap.std(axis=0), alpha=0.4)\n",
        "# ax1.plot(range(eps), I_MY.mean(axis=0), label='I(Model(x); Y)')\n",
        "ax1.plot(range(eps), I_MY.mean(axis=0), label='I(F$_t$; Y)')\n",
        "ax1.fill_between(range(eps), I_MY.mean(axis=0)-I_MY.std(axis=0), I_MY.mean(axis=0)+I_MY.std(axis=0), alpha=0.4)\n",
        "\n",
        "ax1.plot(range(eps), I_MY_train.mean(axis=0), label='I(F$_t$; Y$_S$)')\n",
        "ax1.fill_between(range(eps), I_MY_train.mean(axis=0)-I_MY_train.std(axis=0), I_MY_train.mean(axis=0)+I_MY_train.std(axis=0), alpha=0.4)\n",
        "\n",
        "\n",
        "# ax1.plot(range(eps), I_LYM.mean(axis=0), label='I(Lin(x); Y | Model(x))')\n",
        "# ax1.plot(range(eps), I_LYM.mean(axis=0), label='I(L(x); Y | M(x))')\n",
        "# ax1.fill_between(range(eps), I_LYM.mean(axis=0)-I_LYM.std(axis=0), I_LYM.mean(axis=0)+I_LYM.std(axis=0), alpha=0.3)\n",
        "\n",
        "ax1.plot(range(eps), (1-H(lin_acc))*np.ones(eps), linestyle='--', linewidth=1, label='Best Linear', color='C0')\n",
        "\n",
        "plt.text(range(eps)[-10],  (1-H(lin_acc))+0.015, 'Best Linear')\n",
        "\n",
        "# ax1.plot(range(eps), (1-H(lin_acc))*np.ones(eps), linestyle='--', linewidth=1, label='Best Linear', color='C0')\n",
        "\n",
        "# plt.text(range(eps)[-50],  (1-H(lin_acc))+0.015, 'Best Linear'\n",
        "\n",
        "plt.xlabel(\"SGD epochs\")\n",
        "plt.ylabel(\"High Dimensional Sinusoid - Mutual-Information\")\n",
        "# plt.grid(True, axis='y')\n",
        "\n",
        "# ax1.legend()\n",
        "ax1.xaxis.set_major_locator(matplotlib.ticker.MaxNLocator(integer=True))\n",
        "\n",
        "ax2 = ax1.twinx()\n",
        "ax2.plot(ax1.get_ylim(), alpha=0)\n",
        "ax2.set_ylabel(\"Accuracy\")\n",
        "ax2.set_ylim(ax1.get_ylim())\n",
        "\n",
        "# l = ax1.get_ylim()\n",
        "# l2 = ax2.get_ylim()\n",
        "labels = np.array([0.5, 0.6, 0.7, 0.8, 0.9, 0.99])\n",
        "# f = lambda x : l2[0]+(x-l[0])/(l[1]-l[0])*(l2[1]-l2[0])\n",
        "# ticks = f(1-H(labels))\n",
        "ax2.yaxis.set_major_locator(matplotlib.ticker.FixedLocator(1-H(labels)))\n",
        "ax2.set_yticklabels(labels)\n",
        "plt.title('Mnist, 0-4 vs 5-9 - Mutual-Information')\n",
        "\n",
        "labels = np.linspace(0.5, 1, 6)\n",
        "\n",
        "\n",
        "\n",
        "# ax2.set_yticks(ytx2)\n",
        "fig.tight_layout()"
      ],
      "execution_count": 0,
      "outputs": [
        {
          "output_type": "stream",
          "text": [
            "time number  0\n",
            "Starting epoch 0 at time:  11:52:16.826475\n",
            "2000/2000 [==============================] - 0s 245us/step\n",
            "Starting epoch 1 at time:  11:52:25.838145\n",
            "2000/2000 [==============================] - 0s 41us/step\n",
            "Starting epoch 2 at time:  11:52:32.546188\n",
            "2000/2000 [==============================] - 0s 40us/step\n",
            "Starting epoch 3 at time:  11:52:39.133766\n",
            "2000/2000 [==============================] - 0s 39us/step\n",
            "Starting epoch 4 at time:  11:52:45.474647\n",
            "2000/2000 [==============================] - 0s 38us/step\n",
            "Starting epoch 5 at time:  11:52:51.798092\n",
            "2000/2000 [==============================] - 0s 37us/step\n",
            "Starting epoch 6 at time:  11:52:58.161288\n",
            "2000/2000 [==============================] - 0s 41us/step\n",
            "Starting epoch 7 at time:  11:53:04.378424\n",
            "2000/2000 [==============================] - 0s 39us/step\n",
            "Starting epoch 8 at time:  11:53:10.633702\n",
            "2000/2000 [==============================] - 0s 38us/step\n",
            "Starting epoch 9 at time:  11:53:16.856117\n",
            "2000/2000 [==============================] - 0s 40us/step\n",
            "Starting epoch 10 at time:  11:53:23.155941\n",
            "2000/2000 [==============================] - 0s 38us/step\n",
            "Starting epoch 11 at time:  11:53:29.329803\n",
            "2000/2000 [==============================] - 0s 39us/step\n",
            "Starting epoch 12 at time:  11:53:35.468925\n",
            "2000/2000 [==============================] - 0s 39us/step\n",
            "Starting epoch 13 at time:  11:53:41.677947\n",
            "2000/2000 [==============================] - 0s 36us/step\n",
            "Starting epoch 14 at time:  11:53:47.945562\n",
            "2000/2000 [==============================] - 0s 37us/step\n",
            "Starting epoch 15 at time:  11:53:54.230952\n",
            "2000/2000 [==============================] - 0s 41us/step\n",
            "Starting epoch 16 at time:  11:54:00.970605\n",
            "2000/2000 [==============================] - 0s 41us/step\n",
            "Starting epoch 17 at time:  11:54:07.878341\n",
            "2000/2000 [==============================] - 0s 37us/step\n",
            "Starting epoch 18 at time:  11:54:14.172336\n",
            "2000/2000 [==============================] - 0s 41us/step\n",
            "Starting epoch 19 at time:  11:54:20.431831\n",
            "2000/2000 [==============================] - 0s 37us/step\n",
            "Starting epoch 20 at time:  11:54:26.802756\n",
            "2000/2000 [==============================] - 0s 38us/step\n",
            "Starting epoch 21 at time:  11:54:33.154988\n",
            "2000/2000 [==============================] - 0s 42us/step\n",
            "Starting epoch 22 at time:  11:54:39.474354\n",
            "2000/2000 [==============================] - 0s 37us/step\n",
            "Starting epoch 23 at time:  11:54:45.702825\n",
            "2000/2000 [==============================] - 0s 40us/step\n",
            "Starting epoch 24 at time:  11:54:52.087781\n",
            "2000/2000 [==============================] - 0s 40us/step\n",
            "time number  1\n",
            "Starting epoch 0 at time:  11:54:58.376307\n",
            "2000/2000 [==============================] - 1s 253us/step\n",
            "Starting epoch 1 at time:  11:55:07.525339\n",
            "2000/2000 [==============================] - 0s 38us/step\n",
            "Starting epoch 2 at time:  11:55:14.167685\n",
            "2000/2000 [==============================] - 0s 41us/step\n",
            "Starting epoch 3 at time:  11:55:20.455243\n",
            "2000/2000 [==============================] - 0s 40us/step\n",
            "Starting epoch 4 at time:  11:55:26.859725\n",
            "2000/2000 [==============================] - 0s 38us/step\n",
            "Starting epoch 5 at time:  11:55:33.267774\n",
            "2000/2000 [==============================] - 0s 38us/step\n",
            "Starting epoch 6 at time:  11:55:39.531741\n",
            "2000/2000 [==============================] - 0s 41us/step\n",
            "Starting epoch 7 at time:  11:55:46.031546\n",
            "2000/2000 [==============================] - 0s 41us/step\n",
            "Starting epoch 8 at time:  11:55:52.353300\n",
            "2000/2000 [==============================] - 0s 39us/step\n",
            "Starting epoch 9 at time:  11:55:58.848517\n",
            "2000/2000 [==============================] - 0s 37us/step\n",
            "Starting epoch 10 at time:  11:56:05.272871\n",
            "2000/2000 [==============================] - 0s 37us/step\n"
          ],
          "name": "stdout"
        }
      ]
    },
    {
      "cell_type": "code",
      "metadata": {
        "id": "vaLKfOizlmfh",
        "colab_type": "code",
        "outputId": "8a2d1e5a-dc65-402b-a960-92f1d7ff8e34",
        "colab": {
          "base_uri": "https://localhost:8080/",
          "height": 383
        }
      },
      "source": [
        "fig.tight_layout()\n",
        "\n",
        "plt.rcParams[\"font.family\"] = 'serif'\n",
        "plt.rcParams.update({'font.size': 16})\n",
        "eps = epochs\n",
        "\n",
        "gap = I_MY - I_MYL\n",
        "_, lin_acc = lin.evaluate(x_test, y_test)\n",
        "\n",
        "fig, ax1 = plt.subplots()\n",
        "# ax1.plot(range(eps), gap.mean(axis=0), label='I(Model(x); Y) - I(Model(x); Y | Lin(x))')\n",
        "ax1.plot(range(eps), gap.mean(axis=0), label='I(F$_t$; Y) - I(F$_t$; Y | Lin)')\n",
        "ax1.fill_between(range(eps), gap.mean(axis=0)-gap.std(axis=0), gap.mean(axis=0)+gap.std(axis=0), alpha=0.4)\n",
        "# ax1.plot(range(eps), I_MY.mean(axis=0), label='I(Model(x); Y)')\n",
        "ax1.plot(range(eps), I_MY.mean(axis=0), label='I(F$_t$; Y)')\n",
        "ax1.fill_between(range(eps), I_MY.mean(axis=0)-0.5*I_MY.std(axis=0), I_MY.mean(axis=0)+0.5*I_MY.std(axis=0), alpha=0.4)\n",
        "\n",
        "ax1.plot(range(eps), I_MY_train.mean(axis=0), label='I(F$_t$; Y$_S$)')\n",
        "ax1.fill_between(range(eps), I_MY_train.mean(axis=0)-0.5*I_MY_train.std(axis=0), I_MY_train.mean(axis=0)+0.5*I_MY_train.std(axis=0), alpha=0.4)\n",
        "\n",
        "\n",
        "# ax1.plot(range(eps), I_LYM.mean(axis=0), label='I(Lin(x); Y | Model(x))')\n",
        "# ax1.plot(range(eps), I_LYM.mean(axis=0), label='I(L(x); Y | M(x))')\n",
        "# ax1.fill_between(range(eps), I_LYM.mean(axis=0)-I_LYM.std(axis=0), I_LYM.mean(axis=0)+I_LYM.std(axis=0), alpha=0.3)\n",
        "\n",
        "ax1.plot(range(eps), (1-H(lin_acc))*np.ones(eps), linestyle='--', linewidth=1, label='Best Linear', color='C0')\n",
        "\n",
        "plt.text(range(eps)[-8],  (1-H(lin_acc))+0.015, 'Best Linear')\n",
        "\n",
        "# ax1.plot(range(eps), (1-H(lin_acc))*np.ones(eps), linestyle='--', linewidth=1, label='Best Linear', color='C0')\n",
        "\n",
        "# plt.text(range(eps)[-50],  (1-H(lin_acc))+0.015, 'Best Linear'\n",
        "\n",
        "plt.xlabel(\"SGD epochs\")\n",
        "plt.ylabel(\"Mutual-Information\")\n",
        "# plt.grid(True, axis='y')\n",
        "\n",
        "# ax1.legend()\n",
        "ax1.xaxis.set_major_locator(matplotlib.ticker.MaxNLocator(integer=True))\n",
        "\n",
        "ax2 = ax1.twinx()\n",
        "ax2.plot(ax1.get_ylim(), alpha=0)\n",
        "ax2.set_ylabel(\"Accuracy\")\n",
        "ax2.set_ylim(ax1.get_ylim())\n",
        "\n",
        "# l = ax1.get_ylim()\n",
        "# l2 = ax2.get_ylim()\n",
        "labels = np.array([0.5, 0.6, 0.7, 0.8, 0.9, 0.99])\n",
        "# f = lambda x : l2[0]+(x-l[0])/(l[1]-l[0])*(l2[1]-l2[0])\n",
        "# ticks = f(1-H(labels))\n",
        "ax2.yaxis.set_major_locator(matplotlib.ticker.FixedLocator(1-H(labels)))\n",
        "ax2.set_yticklabels(labels)\n",
        "plt.title('High Dimensional Sinusoid')\n",
        "\n",
        "labels = np.linspace(0.5, 1, 6)"
      ],
      "execution_count": 15,
      "outputs": [
        {
          "output_type": "stream",
          "text": [
            "2000/2000 [==============================] - 0s 27us/step\n"
          ],
          "name": "stdout"
        },
        {
          "output_type": "stream",
          "text": [
            "/usr/local/lib/python3.6/dist-packages/matplotlib/tight_layout.py:181: UserWarning: Tight layout not applied. The bottom and top margins cannot be made large enough to accommodate all axes decorations. \n",
            "  warnings.warn('Tight layout not applied. '\n"
          ],
          "name": "stderr"
        },
        {
          "output_type": "display_data",
          "data": {
            "image/png": "[encoded data removed]",
            "text/plain": [
              "<Figure size 432x288 with 2 Axes>"
            ]
          },
          "metadata": {
            "tags": []
          }
        }
      ]
    },
    {
      "cell_type": "code",
      "metadata": {
        "id": "7nKHOcR0D2pI",
        "colab_type": "code",
        "colab": {
          "base_uri": "https://localhost:8080/",
          "height": 196
        },
        "outputId": "e9629b34-aa11-45de-9562-316e4e4484c1"
      },
      "source": [
        "first_idx = np.where(I_MY.mean(axis=0) > 1-H(lin_acc))[0][0]\n",
        "print (gap.mean(axis=0)[first_idx] /( 1-H(lin_acc)))\n",
        "gap.mean(axis=0)[-1] / I_MY.mean(axis=0)[-1]"
      ],
      "execution_count": 1,
      "outputs": [
        {
          "output_type": "error",
          "ename": "NameError",
          "evalue": "ignored",
          "traceback": [
            "\u001b[0;31m---------------------------------------------------------------------------\u001b[0m",
            "\u001b[0;31mNameError\u001b[0m                                 Traceback (most recent call last)",
            "\u001b[0;32m<ipython-input-1-fe9e8be8bffd>\u001b[0m in \u001b[0;36m<module>\u001b[0;34m()\u001b[0m\n\u001b[0;32m----> 1\u001b[0;31m \u001b[0mfirst_idx\u001b[0m \u001b[0;34m=\u001b[0m \u001b[0mnp\u001b[0m\u001b[0;34m.\u001b[0m\u001b[0mwhere\u001b[0m\u001b[0;34m(\u001b[0m\u001b[0mI_MY\u001b[0m\u001b[0;34m.\u001b[0m\u001b[0mmean\u001b[0m\u001b[0;34m(\u001b[0m\u001b[0maxis\u001b[0m\u001b[0;34m=\u001b[0m\u001b[0;36m0\u001b[0m\u001b[0;34m)\u001b[0m \u001b[0;34m>\u001b[0m \u001b[0;36m1\u001b[0m\u001b[0;34m-\u001b[0m\u001b[0mH\u001b[0m\u001b[0;34m(\u001b[0m\u001b[0mlin_acc\u001b[0m\u001b[0;34m)\u001b[0m\u001b[0;34m)\u001b[0m\u001b[0;34m[\u001b[0m\u001b[0;36m0\u001b[0m\u001b[0;34m]\u001b[0m\u001b[0;34m[\u001b[0m\u001b[0;36m0\u001b[0m\u001b[0;34m]\u001b[0m\u001b[0;34m\u001b[0m\u001b[0;34m\u001b[0m\u001b[0m\n\u001b[0m\u001b[1;32m      2\u001b[0m \u001b[0mprint\u001b[0m \u001b[0;34m(\u001b[0m\u001b[0mgap\u001b[0m\u001b[0;34m.\u001b[0m\u001b[0mmean\u001b[0m\u001b[0;34m(\u001b[0m\u001b[0maxis\u001b[0m\u001b[0;34m=\u001b[0m\u001b[0;36m0\u001b[0m\u001b[0;34m)\u001b[0m\u001b[0;34m[\u001b[0m\u001b[0mfirst_idx\u001b[0m\u001b[0;34m]\u001b[0m \u001b[0;34m/\u001b[0m\u001b[0;34m(\u001b[0m \u001b[0;36m1\u001b[0m\u001b[0;34m-\u001b[0m\u001b[0mH\u001b[0m\u001b[0;34m(\u001b[0m\u001b[0mlin_acc\u001b[0m\u001b[0;34m)\u001b[0m\u001b[0;34m)\u001b[0m\u001b[0;34m)\u001b[0m\u001b[0;34m\u001b[0m\u001b[0;34m\u001b[0m\u001b[0m\n\u001b[1;32m      3\u001b[0m \u001b[0mgap\u001b[0m\u001b[0;34m.\u001b[0m\u001b[0mmean\u001b[0m\u001b[0;34m(\u001b[0m\u001b[0maxis\u001b[0m\u001b[0;34m=\u001b[0m\u001b[0;36m0\u001b[0m\u001b[0;34m)\u001b[0m\u001b[0;34m[\u001b[0m\u001b[0;34m-\u001b[0m\u001b[0;36m1\u001b[0m\u001b[0;34m]\u001b[0m \u001b[0;34m/\u001b[0m \u001b[0mI_MY\u001b[0m\u001b[0;34m.\u001b[0m\u001b[0mmean\u001b[0m\u001b[0;34m(\u001b[0m\u001b[0maxis\u001b[0m\u001b[0;34m=\u001b[0m\u001b[0;36m0\u001b[0m\u001b[0;34m)\u001b[0m\u001b[0;34m[\u001b[0m\u001b[0;34m-\u001b[0m\u001b[0;36m1\u001b[0m\u001b[0;34m]\u001b[0m\u001b[0;34m\u001b[0m\u001b[0;34m\u001b[0m\u001b[0m\n",
            "\u001b[0;31mNameError\u001b[0m: name 'np' is not defined"
          ]
        }
      ]
    },
    {
      "cell_type": "code",
      "metadata": {
        "id": "-BZHqH8JozhY",
        "colab_type": "code",
        "colab": {
          "base_uri": "https://localhost:8080/",
          "height": 162
        },
        "outputId": "570b9a59-2c34-44f4-e612-7b85cf25eabe"
      },
      "source": [
        "1-H(lin_acc)"
      ],
      "execution_count": 1,
      "outputs": [
        {
          "output_type": "error",
          "ename": "NameError",
          "evalue": "ignored",
          "traceback": [
            "\u001b[0;31m---------------------------------------------------------------------------\u001b[0m",
            "\u001b[0;31mNameError\u001b[0m                                 Traceback (most recent call last)",
            "\u001b[0;32m<ipython-input-1-096a41068d65>\u001b[0m in \u001b[0;36m<module>\u001b[0;34m()\u001b[0m\n\u001b[0;32m----> 1\u001b[0;31m \u001b[0;36m1\u001b[0m\u001b[0;34m-\u001b[0m\u001b[0mH\u001b[0m\u001b[0;34m(\u001b[0m\u001b[0mlin_acc\u001b[0m\u001b[0;34m)\u001b[0m\u001b[0;34m\u001b[0m\u001b[0;34m\u001b[0m\u001b[0m\n\u001b[0m",
            "\u001b[0;31mNameError\u001b[0m: name 'H' is not defined"
          ]
        }
      ]
    },
    {
      "cell_type": "code",
      "metadata": {
        "id": "OfGBTmoN0SY0",
        "colab_type": "code",
        "outputId": "6da42d0b-1bae-4cc3-8517-85328a8425eb",
        "colab": {
          "base_uri": "https://localhost:8080/",
          "height": 129
        }
      },
      "source": [
        "( 1-H(lin_acc[0])"
      ],
      "execution_count": 33,
      "outputs": [
        {
          "output_type": "error",
          "ename": "SyntaxError",
          "evalue": "ignored",
          "traceback": [
            "\u001b[0;36m  File \u001b[0;32m\"<ipython-input-33-570f88c33c6a>\"\u001b[0;36m, line \u001b[0;32m1\u001b[0m\n\u001b[0;31m    ( 1-H(lin_acc[0])\u001b[0m\n\u001b[0m                     ^\u001b[0m\n\u001b[0;31mSyntaxError\u001b[0m\u001b[0;31m:\u001b[0m unexpected EOF while parsing\n"
          ]
        }
      ]
    },
    {
      "cell_type": "code",
      "metadata": {
        "id": "sG5twzh-FuKi",
        "colab_type": "code",
        "outputId": "88288d3e-1438-4925-cf2b-53c63afd9016",
        "colab": {
          "base_uri": "https://localhost:8080/",
          "height": 34
        }
      },
      "source": [
        "mu.mean(axis=0)[first_idx] / (1-H(lin_acc))\n",
        "mu.mean(axis=0)[-1] / I_MY.mean(axis=0)[-1]"
      ],
      "execution_count": 0,
      "outputs": [
        {
          "output_type": "execute_result",
          "data": {
            "text/plain": [
              "0.3017191088653761"
            ]
          },
          "metadata": {
            "tags": []
          },
          "execution_count": 46
        }
      ]
    },
    {
      "cell_type": "code",
      "metadata": {
        "id": "qzYgTKm2Hz4G",
        "colab_type": "code",
        "outputId": "d5af3b2c-b4be-49fb-a991-5b863c9df55b",
        "colab": {
          "base_uri": "https://localhost:8080/",
          "height": 50
        }
      },
      "source": [
        "lin.evaluate(x_test, y_test)"
      ],
      "execution_count": 0,
      "outputs": [
        {
          "output_type": "stream",
          "text": [
            "1000/1000 [==============================] - 0s 65us/step\n"
          ],
          "name": "stdout"
        },
        {
          "output_type": "execute_result",
          "data": {
            "text/plain": [
              "[0.5605549945831299, 0.849]"
            ]
          },
          "metadata": {
            "tags": []
          },
          "execution_count": 25
        }
      ]
    },
    {
      "cell_type": "code",
      "metadata": {
        "id": "PgjYwJQqVwAa",
        "colab_type": "code",
        "colab": {}
      },
      "source": [
        ""
      ],
      "execution_count": 0,
      "outputs": []
    }
  ]
}